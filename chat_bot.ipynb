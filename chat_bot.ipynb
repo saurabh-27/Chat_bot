{
  "nbformat": 4,
  "nbformat_minor": 0,
  "metadata": {
    "colab": {
      "name": "chat_bot.ipynb",
      "provenance": []
    },
    "kernelspec": {
      "name": "python3",
      "display_name": "Python 3"
    },
    "accelerator": "GPU"
  },
  "cells": [
    {
      "cell_type": "code",
      "metadata": {
        "id": "yBMzsKhdpY7n",
        "colab_type": "code",
        "colab": {}
      },
      "source": [
        "import os\n",
        "import nltk\n",
        "import random\n",
        "import string\n",
        "from sklearn.feature_extraction.text import TfidfVectorizer\n",
        "from sklearn.metrics.pairwise import cosine_similarity\n",
        "import nltk\n",
        "import numpy as np\n",
        "import warnings\n",
        "nltk.download(\"punkt\",quiet=True)\n",
        "nltk.download(\"wordnet\",quiet=True)\n",
        "warnings.filterwarnings(\"ignore\")"
      ],
      "execution_count": 0,
      "outputs": []
    },
    {
      "cell_type": "code",
      "metadata": {
        "id": "YTaTXz97rnmk",
        "colab_type": "code",
        "outputId": "3bdecc6c-e4d5-4618-d63f-14d5420b5d38",
        "colab": {
          "base_uri": "https://localhost:8080/",
          "height": 34
        }
      },
      "source": [
        "nltk.download(\"punkt\",quiet=True)\n",
        "nltk.download(\"wordnet\",quiet=True)\n"
      ],
      "execution_count": 4,
      "outputs": [
        {
          "output_type": "execute_result",
          "data": {
            "text/plain": [
              "True"
            ]
          },
          "metadata": {
            "tags": []
          },
          "execution_count": 4
        }
      ]
    },
    {
      "cell_type": "code",
      "metadata": {
        "id": "T1Z77x9zHFBO",
        "colab_type": "code",
        "colab": {}
      },
      "source": [
        "from urllib.request import urlopen\n",
        "from bs4 import BeautifulSoup\n",
        "import requests\n",
        "\n",
        "url = \"https://en.wikipedia.org/wiki/COVID-19_pandemic_in_India\"\n",
        "\n",
        "try:\n",
        "    page = requests.get(url).text\n",
        "except:\n",
        "    print(\"Error opening the URL\")\n",
        "\n",
        "soup = BeautifulSoup(page, 'html5lib')\n",
        "\n",
        "\n",
        "article = ''\n",
        "for paragraph in soup.find_all('p'):\n",
        "    article += paragraph.text\n",
        "print(article)\n",
        "\n",
        "with open('scraped_text.txt', 'w') as file:\n",
        "    file.write(article)\n",
        "\n",
        "  "
      ],
      "execution_count": 0,
      "outputs": []
    },
    {
      "cell_type": "code",
      "metadata": {
        "id": "g_pd47iZDX0f",
        "colab_type": "code",
        "colab": {}
      },
      "source": [
        "text =article\n",
        "print(string.punctuation)"
      ],
      "execution_count": 0,
      "outputs": []
    },
    {
      "cell_type": "code",
      "metadata": {
        "id": "kXimq1jagk01",
        "colab_type": "code",
        "colab": {}
      },
      "source": [
        "def remove_punctuation(string):\n",
        "  punctuations = '''!\"#$%&'()*+,-./:;<=>?@[\\]^_`{|}~'''\n",
        "  for x in string.lower():\n",
        "    if x in punctuations:\n",
        "      string = string.replace(x,\"\")\n",
        "      \n",
        "  return (string)"
      ],
      "execution_count": 0,
      "outputs": []
    },
    {
      "cell_type": "code",
      "metadata": {
        "id": "-_Y-z9HQg8-F",
        "colab_type": "code",
        "colab": {}
      },
      "source": [
        "text = remove_punctuation(text)"
      ],
      "execution_count": 0,
      "outputs": []
    },
    {
      "cell_type": "code",
      "metadata": {
        "id": "0z-6FS-BvRkz",
        "colab_type": "code",
        "colab": {}
      },
      "source": [
        "sent_token = nltk.sent_tokenize(text)"
      ],
      "execution_count": 0,
      "outputs": []
    },
    {
      "cell_type": "code",
      "metadata": {
        "id": "HmQw5zwfx5Ek",
        "colab_type": "code",
        "colab": {}
      },
      "source": [
        "sent_token"
      ],
      "execution_count": 0,
      "outputs": []
    },
    {
      "cell_type": "code",
      "metadata": {
        "id": "PHqvuhl98Ptd",
        "colab_type": "code",
        "colab": {}
      },
      "source": [
        "def lemnormalize(text):\n",
        "  return nltk.word_tokenize(text)\n",
        "\n",
        "print(lemnormalize(text))"
      ],
      "execution_count": 0,
      "outputs": []
    },
    {
      "cell_type": "code",
      "metadata": {
        "id": "lE6lk7uNbw_6",
        "colab_type": "code",
        "colab": {}
      },
      "source": [
        "Greeting_inputs = [\"hi\",\"hello\",\"hey\",\"hola\",\"hi wassup!\",\"greetings\",\"whats up\"]\n",
        "\n",
        "Greeting_responses = [\"hi\",\"hey\",\"howdy\",\"hi wassup\",\"what's good\",\"hey there\",\"hello\",\"hola\"]\n",
        "\n",
        "def greeting(sentence):\n",
        "\n",
        "  for word in sentence.split():\n",
        "    if word.lower() in Greeting_inputs:\n",
        "      return random.choice(Greeting_responses)\n"
      ],
      "execution_count": 0,
      "outputs": []
    },
    {
      "cell_type": "code",
      "metadata": {
        "id": "1l-Lj7LfkoDE",
        "colab_type": "code",
        "colab": {}
      },
      "source": [
        "def response(user_response):\n",
        "\n",
        "  \n",
        "    user_response = user_response.lower()\n",
        "    robo_response = \"\"\n",
        "\n",
        "    sent_token.append(user_response)\n",
        "    tfidf_vec = TfidfVectorizer(tokenizer = lemnormalize,stop_words=\"english\")\n",
        "    tfidf = tfidf_vec.fit_transform(sent_token)\n",
        "    vals = cosine_similarity(tfidf[-1],tfidf)\n",
        "    idx = vals.argsort()[0][-2]\n",
        "    flat = vals.flatten()\n",
        "\n",
        "    flat.sort()\n",
        "    score = flat[-2]\n",
        "    \n",
        "    if(score==0):\n",
        "      robo_response = robo_response + \" i apologize, i dont understand\"\n",
        "\n",
        "    else:\n",
        "      robo_response = robo_response + sent_token[idx]\n",
        "\n",
        "    sent_token.remove(user_response)\n",
        "    return robo_response\n",
        "\n",
        "\n"
      ],
      "execution_count": 0,
      "outputs": []
    },
    {
      "cell_type": "code",
      "metadata": {
        "id": "sJF-H_rcr0Wp",
        "colab_type": "code",
        "colab": {}
      },
      "source": [
        "flag = True\n",
        "print(\"Covid_bot:I am a Covid bot..i will answer your queries about the covid-19 pandemic in india.if you want to exit,type bye\" )\n",
        "\n",
        "\n",
        "while (flag == True):\n",
        "  user_response = input()\n",
        "  user_response = user_response.lower()\n",
        "\n",
        "  if (user_response!=\"bye\"):\n",
        "    \n",
        "    if (user_response == \"thanks\" or user_response == \"Thank you\"):\n",
        "      flag = False\n",
        "      print(\"Covidbot: you are welcome\")\n",
        "    else:\n",
        "      if greeting(user_response)!= None:\n",
        "        print(\"Covidbot:\"+greeting(user_response))\n",
        "      else:\n",
        "        print(\"Covidbot:\"+ response(user_response))\n",
        "  else:\n",
        "    flag = False\n",
        "    print(Covidbot : chat with you later\")\n",
        "\n"
      ],
      "execution_count": 0,
      "outputs": []
    },
    {
      "cell_type": "code",
      "metadata": {
        "id": "2XR05kxvq2g7",
        "colab_type": "code",
        "colab": {}
      },
      "source": [
        ""
      ],
      "execution_count": 0,
      "outputs": []
    }
  ]
}